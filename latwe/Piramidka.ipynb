{
 "cells": [
  {
   "cell_type": "markdown",
   "metadata": {
    "collapsed": true,
    "pycharm": {
     "name": "#%% md\n"
    }
   },
   "source": [
    "Masz dane słowo S o nieparzystej długości N. Na podstawie tego słowa wypisz piramidę taką jak w przykładzie.\n",
    "\n",
    "Wejście\n",
    "W pierwszej linii wejścia znajduje się nieparzysta liczba całkowita N (1 ≤ N ≤ 29).\n",
    "\n",
    "W drugiej linii wejścia znajduje się napis S. Napis ten składa się tylko i wyłącznie z małych liter alfabetu łacińskiego.\n",
    "\n",
    "Wyjście\n",
    "Wypisz piramidę na podstawie słowa S w taki sposób jak w przykładzie.\n",
    "\n",
    "Przykład\n",
    "Wejście:\n",
    "9\n",
    "piramidka\n",
    "Wyjście:\n",
    "....m....\n",
    "...ami...\n",
    "..ramid..\n",
    ".iramidk.\n",
    "piramidka"
   ]
  },
  {
   "cell_type": "code",
   "execution_count": 19,
   "outputs": [
    {
     "name": "stdout",
     "output_type": "stream",
     "text": [
      "....m....\n",
      "...ami...\n",
      "..ramid..\n",
      ".iramidk.\n",
      "piramidka\n"
     ]
    }
   ],
   "source": [
    "while True:\n",
    "    try:\n",
    "        n = int(input())\n",
    "        slowo = input()\n",
    "        for x in range((n//2),-2,-1):\n",
    "            if x==0:\n",
    "                print(slowo)\n",
    "                break\n",
    "            else:\n",
    "                print(x*'.'+ slowo[x:-x]+x*'.')\n",
    "    except Exception:\n",
    "        break"
   ],
   "metadata": {
    "collapsed": false,
    "pycharm": {
     "name": "#%%\n"
    }
   }
  },
  {
   "cell_type": "code",
   "execution_count": null,
   "outputs": [],
   "source": [],
   "metadata": {
    "collapsed": false,
    "pycharm": {
     "name": "#%%\n"
    }
   }
  }
 ],
 "metadata": {
  "kernelspec": {
   "display_name": "Python 3",
   "language": "python",
   "name": "python3"
  },
  "language_info": {
   "codemirror_mode": {
    "name": "ipython",
    "version": 2
   },
   "file_extension": ".py",
   "mimetype": "text/x-python",
   "name": "python",
   "nbconvert_exporter": "python",
   "pygments_lexer": "ipython2",
   "version": "2.7.6"
  }
 },
 "nbformat": 4,
 "nbformat_minor": 0
}