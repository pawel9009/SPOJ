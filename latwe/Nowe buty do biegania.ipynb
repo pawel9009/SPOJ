{
 "cells": [
  {
   "cell_type": "markdown",
   "source": [
    "Janek marzy o zakupie nowych butów do biegania. W obecnych przebiegł już k kilometrów. Eksperci uważają, że buty do biegania należy wymienić nie wcześniej niż po przebiegnięciu 300 mil i nie później niż po przebiegnięciu 500 mil. 1 mila jest równa 1.609344 kilometra.\n",
    "\n",
    "Rodzice Janka znają opinie ekspertów i na prośbę syna o zakup nowych butów do biegania zawsze udzielają 1 z 3 odpowiedzi:\n",
    "\n",
    "NIE - jeżeli wartość k podana w milach zawiera się w przedziale [0, 300).\n",
    "SPRAWDZIMY TWOJE OBECNE BUTY - jeżeli wartość k podana w milach zawiera się w przedziale [300, 500).\n",
    "TAK - jeżeli wartość k podana w milach zawiera się w przedziale [500, ∞].\n",
    "Jaka będzie odpowiedź rodziców, jeżeli Janek poprosi ich teraz o zakup nowych butów?\n",
    "\n",
    "Wejście\n",
    "W pierwszej i jedynej linii wejścia znajdują się liczba całkowita k ∈ [0, 1000] określająca dystans w kilometrach jaki Janek przebiegł w obecnych butach.\n",
    "\n",
    "Wyjście\n",
    "Na wyjściu należy wypisać, jaka będzie odpowiedź rodziców, jeżeli Janek poprosi ich teraz o zakup nowych butów.\n",
    "\n",
    "Przykład 1:\n",
    "Wejście:\n",
    "\n",
    "482\n",
    "Wyjście:\n",
    "\n",
    "NIE\n",
    "Wyjaśnienie do przykładu:\n",
    "\n",
    "482 kilometry to w przybliżeniu 299,501 mil.\n",
    "\n",
    "Przykład 2:\n",
    "Wejście:\n",
    "\n",
    "483\n",
    "Wyjście:\n",
    "\n",
    "SPRAWDZIMY TWOJE OBECNE BUTY\n",
    "Wyjaśnienie do przykładu:\n",
    "\n",
    "483 kilometry to w przybliżeniu 300,122 mil.\n",
    "\n",
    "Przykład 3:\n",
    "Wejście:\n",
    "\n",
    "1000\n",
    "Wyjście:\n",
    "\n",
    "TAK"
   ],
   "metadata": {
    "collapsed": false,
    "pycharm": {
     "name": "#%% md\n"
    }
   }
  },
  {
   "cell_type": "code",
   "execution_count": 2,
   "outputs": [
    {
     "name": "stdout",
     "output_type": "stream",
     "text": [
      "NIE\n",
      "SPRAWDZIMY TWOJE OBECNE BUTY\n",
      "TAK\n"
     ]
    }
   ],
   "source": [
    "while True:\n",
    "    try:\n",
    "        n = int(input())\n",
    "        mile = n / 1.609344\n",
    "        if mile < 300.0:\n",
    "            print(\"NIE\")\n",
    "        elif mile < 500:\n",
    "            print('SPRAWDZIMY TWOJE OBECNE BUTY')\n",
    "        else:\n",
    "            print(\"TAK\")\n",
    "    except Exception:\n",
    "        break"
   ],
   "metadata": {
    "collapsed": false,
    "pycharm": {
     "name": "#%%\n"
    }
   }
  }
 ],
 "metadata": {
  "kernelspec": {
   "display_name": "Python 3",
   "language": "python",
   "name": "python3"
  },
  "language_info": {
   "codemirror_mode": {
    "name": "ipython",
    "version": 2
   },
   "file_extension": ".py",
   "mimetype": "text/x-python",
   "name": "python",
   "nbconvert_exporter": "python",
   "pygments_lexer": "ipython2",
   "version": "2.7.6"
  }
 },
 "nbformat": 4,
 "nbformat_minor": 0
}