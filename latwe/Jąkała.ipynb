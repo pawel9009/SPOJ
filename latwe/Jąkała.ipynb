{
 "cells": [
  {
   "cell_type": "markdown",
   "metadata": {
    "collapsed": true,
    "pycharm": {
     "name": "#%% md\n"
    }
   },
   "source": [
    "To był spokojny czwartkowy poranek. Jaś jak zwykle wszedł na SPOJa z zamiarem rozwiązania jednego z zadań, kiedy jego oczom ukazał się news o jubileuszowej 10 edycji Fraktala. Nasz bohater doznał szoku. Starał się przypomnieć sobie gdzie był podczas poprzednich 9 edycji, ale nie potrafił. Szok okazał się na tyle duży, że nasz bohater zaczął się jąkać. Zauważył, że k liter z alfabetu wymawia podwójnie.\n",
    "\n",
    "Odpowiedz na pytanie, jak będzie słyszany wyraz wypowiedziany przez jąkającego się Jasia?\n",
    "\n",
    "Wejście\n",
    "W pierwszym wierszu jedna liczba naturalna k ∈ [1, 26] określająca liczbę liter.\n",
    "\n",
    "W drugim wierszu k małych liter alfabetu angielskiego, które Jaś wymawia podwójnie.\n",
    "\n",
    "W trzecim wierszu jeden wyraz złożony wyłącznie z małych liter języka angielskiego. Liczba znaków mieści się w przedziale [1, 1000].\n",
    "\n",
    "Wyjście\n",
    "Na wyjściu należy wypisać jak będzie słyszany wyraz wypowiedziany przez jąkającego się Jasia.\n",
    "\n",
    "Przykład\n",
    "Wejście:\n",
    "\n",
    "3\n",
    "f k a\n",
    "fraktal\n",
    "Wyjście:\n",
    "\n",
    "ffraakktaal"
   ]
  },
  {
   "cell_type": "code",
   "execution_count": 1,
   "outputs": [
    {
     "name": "stdout",
     "output_type": "stream",
     "text": [
      "ffraakktaal\n"
     ]
    }
   ],
   "source": [
    "n = int(input())\n",
    "litery = input().split(' ')\n",
    "slowo = input()\n",
    "nowe_slowo = ''\n",
    "for litera in slowo:\n",
    "    if litera in litery:\n",
    "        nowe_slowo+=litera*2\n",
    "    else:\n",
    "        nowe_slowo+=litera\n",
    "print(nowe_slowo)"
   ],
   "metadata": {
    "collapsed": false,
    "pycharm": {
     "name": "#%%\n"
    }
   }
  },
  {
   "cell_type": "code",
   "execution_count": null,
   "outputs": [],
   "source": [],
   "metadata": {
    "collapsed": false,
    "pycharm": {
     "name": "#%%\n"
    }
   }
  }
 ],
 "metadata": {
  "kernelspec": {
   "display_name": "Python 3",
   "language": "python",
   "name": "python3"
  },
  "language_info": {
   "codemirror_mode": {
    "name": "ipython",
    "version": 2
   },
   "file_extension": ".py",
   "mimetype": "text/x-python",
   "name": "python",
   "nbconvert_exporter": "python",
   "pygments_lexer": "ipython2",
   "version": "2.7.6"
  }
 },
 "nbformat": 4,
 "nbformat_minor": 0
}