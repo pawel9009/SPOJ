{
 "cells": [
  {
   "cell_type": "markdown",
   "metadata": {
    "collapsed": true,
    "pycharm": {
     "name": "#%% md\n"
    }
   },
   "source": [
    "  Twoim zadaniem jest napisać program, który wypisze na standardowe wyjście: Mundial 2014\n",
    "\n",
    "Zadanie wydaje się bardzo łatwe, i takie jest. Jedyna niedogodność, to zakaz używania cyfr [0-9] w kodzie źródłowym."
   ]
  },
  {
   "cell_type": "code",
   "execution_count": 1,
   "outputs": [
    {
     "name": "stdout",
     "output_type": "stream",
     "text": [
      "Mundial 2014\n"
     ]
    }
   ],
   "source": [
    "liczba = int(True)\n",
    "liczba_dwa = liczba+liczba\n",
    "print(f'Mundial {liczba_dwa}{liczba-liczba}{liczba}{liczba_dwa*liczba_dwa}')"
   ],
   "metadata": {
    "collapsed": false,
    "pycharm": {
     "name": "#%%\n"
    }
   }
  }
 ],
 "metadata": {
  "kernelspec": {
   "display_name": "Python 3",
   "language": "python",
   "name": "python3"
  },
  "language_info": {
   "codemirror_mode": {
    "name": "ipython",
    "version": 2
   },
   "file_extension": ".py",
   "mimetype": "text/x-python",
   "name": "python",
   "nbconvert_exporter": "python",
   "pygments_lexer": "ipython2",
   "version": "2.7.6"
  }
 },
 "nbformat": 4,
 "nbformat_minor": 0
}